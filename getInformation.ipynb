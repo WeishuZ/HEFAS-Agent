{
 "cells": [
  {
   "cell_type": "code",
   "execution_count": 1,
   "id": "a10f056d-0e34-4e0c-b75f-44815160ae9d",
   "metadata": {},
   "outputs": [],
   "source": [
    "# imports\n",
    "# If these fail, please check you're running from an 'activated' environment with (llms) in the command prompt\n",
    "\n",
    "import os\n",
    "import requests\n",
    "import json\n",
    "from typing import List\n",
    "from dotenv import load_dotenv\n",
    "from bs4 import BeautifulSoup\n",
    "from IPython.display import Markdown, display, update_display\n",
    "from openai import OpenAI"
   ]
  },
  {
   "cell_type": "code",
   "execution_count": 3,
   "id": "dd4aff4a-f341-405d-9520-bf849200c32c",
   "metadata": {},
   "outputs": [],
   "source": [
    "load_dotenv(override=True)\n",
    "api_key = os.getenv('OPENAI_API_KEY')\n",
    "MODEL = 'gpt-4o-mini'\n",
    "openai = OpenAI()"
   ]
  },
  {
   "cell_type": "code",
   "execution_count": 17,
   "id": "c5be5d50-3f54-49bb-b618-b53aa0b0dde6",
   "metadata": {},
   "outputs": [],
   "source": [
    "# A class to represent a Webpage\n",
    "\n",
    "# Some websites need you to use proper headers when fetching them:\n",
    "headers = {\n",
    " \"User-Agent\": \"Mozilla/5.0 (Windows NT 10.0; Win64; x64) AppleWebKit/537.36 (KHTML, like Gecko) Chrome/117.0.0.0 Safari/537.36\"\n",
    "}\n",
    "\n",
    "class Website:\n",
    "    \"\"\"\n",
    "    A utility class to represent a Website that we have scraped, now with links\n",
    "    \"\"\"\n",
    "\n",
    "    def __init__(self, url):\n",
    "        self.url = url\n",
    "        response = requests.get(url, headers=headers)\n",
    "        self.body = response.content\n",
    "        soup = BeautifulSoup(self.body, 'html.parser')\n",
    "        self.title = soup.title.string if soup.title else \"No title found\"\n",
    "        if soup.body:\n",
    "            for irrelevant in soup.body([\"script\", \"style\", \"img\", \"input\"]):\n",
    "                irrelevant.decompose()\n",
    "            self.text = soup.body.get_text(separator=\"\\n\", strip=True)\n",
    "        else:\n",
    "            self.text = \"\"\n",
    "        links = [link.get('href') for link in soup.find_all('a')]\n",
    "        self.links = [link for link in links if link]\n",
    "\n",
    "    def get_contents(self):\n",
    "        return f\"Webpage Title:\\n{self.title}\\nWebpage Contents:\\n{self.text}\\n\\n\""
   ]
  },
  {
   "cell_type": "code",
   "execution_count": null,
   "id": "4f6ae122-5bd6-43ce-bd24-7b343c87bada",
   "metadata": {},
   "outputs": [],
   "source": [
    "hefas = Website(\"https://www.deanza.edu/hefas/\")\n",
    "hefas.links = [\"https://www.deanza.edu\" + link for link in hefas.links if link.startswith('/hefas')]\n",
    "hefas.get_contents()"
   ]
  },
  {
   "cell_type": "code",
   "execution_count": 10,
   "id": "c632b7ea-fb1d-496f-961a-b0246a88557d",
   "metadata": {},
   "outputs": [],
   "source": [
    "output_dir = \"HEFAS_Knowledge\"\n",
    "os.makedirs(output_dir, exist_ok=True)"
   ]
  },
  {
   "cell_type": "code",
   "execution_count": 27,
   "id": "5cabb7da-e681-47cc-bb8f-ee20f9263568",
   "metadata": {},
   "outputs": [],
   "source": [
    "system_prompt = \"\"\"\n",
    "You are provided with information about an institution. Your task is to structure this information into a well-organized Markdown document that clearly outlines the institution’s key details.\n",
    "\n",
    "## **Instructions for Structuring the Markdown Document:**\n",
    "1. **Use a clear and hierarchical structure**  \n",
    "   - Start with a `#` title header for the general contents.\n",
    "   - Use `##` for main sections and `###` for sub-sections.\n",
    "   - Ensure that content is logically grouped and easy to read.\n",
    "\n",
    "2. **Use Markdown formatting properly**  \n",
    "   - Format links as `[Title](URL)`.\n",
    "   - Use bullet points `-` or numbered lists `1.` where appropriate.\n",
    "\n",
    "3. **Define the Core Sections**  \n",
    "   - **Introduction/About**: Brief summary of the institution's mission and purpose.\n",
    "   - **Programs & Services**: Academic programs, student support, and special initiatives.\n",
    "   - **Key Resources**: Financial aid, scholarships, student services.\n",
    "   - **Get Involved**: Volunteering, events, and community participation.\n",
    "   - **Contact Information**: Office locations, emails, phone numbers, and social media.\n",
    "   - **Additional Information**: Policies, campus maps, FAQs.\n",
    "\n",
    "4. **Ensure Logical Flow**  \n",
    "   - Prioritize the most important sections first.\n",
    "   - Maintain consistency in formatting.\n",
    "   - Remove redundant or unnecessary information.\n",
    "\n",
    "## **Example Markdown Output:**\n",
    "\n",
    "```markdown\n",
    "# Institution Name\n",
    "\n",
    "## About Us\n",
    "[Brief description of the institution]\n",
    "[Mission Statement]\n",
    "\n",
    "## Programs & Services\n",
    "- **Academic Programs**\n",
    "- **Student Support Services**\n",
    "- **Special Initiatives**\n",
    "  \n",
    "[Learn more](https://example.com/programs)\n",
    "\n",
    "## Key Resources\n",
    "- **Scholarships & Financial Aid**\n",
    "- **Library & Study Resources**\n",
    "- **Counseling & Career Support**\n",
    "\n",
    "[View all resources](https://example.com/resources)\n",
    "\n",
    "## Get Involved\n",
    "- **Internships & Volunteering**\n",
    "- **Student Organizations**\n",
    "- **Annual Events & Workshops**\n",
    "\n",
    "[Join our programs](https://example.com/get-involved)\n",
    "\n",
    "## Contact Us\n",
    "📍 **Location:** [Campus Address]  \n",
    "📞 **Phone:** [Phone Number]  \n",
    "📧 **Email:** [Email Address]  \n",
    "🌐 **Website:** [Official Website]  \n",
    "📷 **Social Media:** [Instagram | Twitter | Facebook]\n",
    "\n",
    "\"\"\""
   ]
  },
  {
   "cell_type": "code",
   "execution_count": 25,
   "id": "d04d1705-5c9e-43c5-ae46-b04b34a15357",
   "metadata": {},
   "outputs": [],
   "source": [
    "def get_links_user_prompt(contents):\n",
    "    user_prompt = f\"Here is the contents of the HEFAS website - \"\n",
    "    user_prompt += \"please help me to generate the markdown format text of this website\\n\"\n",
    "    user_prompt += contents\n",
    "    return user_prompt"
   ]
  },
  {
   "cell_type": "code",
   "execution_count": null,
   "id": "64a8c6da-c8b1-4ea6-aa56-b617d9124386",
   "metadata": {},
   "outputs": [],
   "source": [
    "def get_document(website):\n",
    "    message = [\n",
    "        {\"role\":\"system\", \"message\":system_prompt},\n",
    "        {\"role\":\"user\", \"message\":get_links_user_prompt(website.get_contents())}\n",
    "    ]\n",
    "\n",
    "    response = openai.chat.completions.create(\n",
    "        model=MODEL,\n",
    "        messages=message,\n",
    "    )\n",
    "    "
   ]
  },
  {
   "cell_type": "code",
   "execution_count": null,
   "id": "5ac47428-9597-40cd-b9aa-6fb60bd3f30b",
   "metadata": {},
   "outputs": [],
   "source": [
    "def generate_knowledge_base(links):\n",
    "    \n",
    "    folder_path = \"HEFAS_Knowledge/HEFAS\"\n",
    "    os.makedirs(folder_path, exist_ok=True)\n",
    "    \n",
    "    for link in links:\n",
    "        website = Website(link)\n",
    "        file_name = website.title\n",
    "        file_path = os.path.join(folder_path, file_name) \n",
    "        with open(\"file_path\", \"w\", encoding=\"utf-8\") as file:\n",
    "            \n",
    "            file.write"
   ]
  }
 ],
 "metadata": {
  "kernelspec": {
   "display_name": "Python 3 (ipykernel)",
   "language": "python",
   "name": "python3"
  },
  "language_info": {
   "codemirror_mode": {
    "name": "ipython",
    "version": 3
   },
   "file_extension": ".py",
   "mimetype": "text/x-python",
   "name": "python",
   "nbconvert_exporter": "python",
   "pygments_lexer": "ipython3",
   "version": "3.11.11"
  }
 },
 "nbformat": 4,
 "nbformat_minor": 5
}
